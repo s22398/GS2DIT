{
  "nbformat": 4,
  "nbformat_minor": 0,
  "metadata": {
    "colab": {
      "provenance": [],
      "toc_visible": true,
      "authorship_tag": "ABX9TyMvQpvhax+E7941iRrN0bH7",
      "include_colab_link": true
    },
    "kernelspec": {
      "name": "python3",
      "display_name": "Python 3"
    },
    "language_info": {
      "name": "python"
    }
  },
  "cells": [
    {
      "cell_type": "markdown",
      "metadata": {
        "id": "view-in-github",
        "colab_type": "text"
      },
      "source": [
        "<a href=\"https://colab.research.google.com/github/s22398/GS2DIT/blob/main/gs2d_1503.ipynb\" target=\"_parent\"><img src=\"https://colab.research.google.com/assets/colab-badge.svg\" alt=\"Open In Colab\"/></a>"
      ]
    },
    {
      "cell_type": "code",
      "execution_count": null,
      "metadata": {
        "id": "AoKDN7nYJt9l"
      },
      "outputs": [],
      "source": []
    },
    {
      "cell_type": "markdown",
      "source": [
        "#Section1"
      ],
      "metadata": {
        "id": "bvVKsxoCJ6dc"
      }
    },
    {
      "cell_type": "code",
      "source": [
        "a=1"
      ],
      "metadata": {
        "id": "n_s_FbykLFQK"
      },
      "execution_count": 1,
      "outputs": []
    },
    {
      "cell_type": "code",
      "source": [
        "b=2"
      ],
      "metadata": {
        "id": "pEB6JbXsLncO"
      },
      "execution_count": 2,
      "outputs": []
    },
    {
      "cell_type": "code",
      "source": [
        "a+b"
      ],
      "metadata": {
        "colab": {
          "base_uri": "https://localhost:8080/"
        },
        "id": "FIxXUb7YLn2x",
        "outputId": "69944e2c-a3af-46ce-f2dc-d6c8f8f1f4d0"
      },
      "execution_count": 3,
      "outputs": [
        {
          "output_type": "execute_result",
          "data": {
            "text/plain": [
              "3"
            ]
          },
          "metadata": {},
          "execution_count": 3
        }
      ]
    },
    {
      "cell_type": "markdown",
      "source": [
        "#Section2"
      ],
      "metadata": {
        "id": "kPPxuDDoLW_J"
      }
    },
    {
      "cell_type": "markdown",
      "source": [
        "**print(\"hello world\")**"
      ],
      "metadata": {
        "id": "CPAdLsuyMS1o"
      }
    },
    {
      "cell_type": "markdown",
      "source": [
        "*print(\"hello world\")*"
      ],
      "metadata": {
        "id": "-87EG_5KMTJ_"
      }
    },
    {
      "cell_type": "markdown",
      "source": [
        "```python\n",
        "print(\"hello world\")\n",
        "```"
      ],
      "metadata": {
        "id": "UNx3wPAzMfBf"
      }
    }
  ]
}